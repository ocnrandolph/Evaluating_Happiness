{
 "cells": [
  {
   "cell_type": "code",
   "execution_count": 1,
   "id": "c8463730",
   "metadata": {
    "slideshow": {
     "slide_type": "skip"
    }
   },
   "outputs": [],
   "source": [
    "import pandas as pd\n",
    "import numpy as np\n",
    "\n",
    "import plotly.express as px\n",
    "\n",
    "import umap\n",
    "\n",
    "from ipywidgets import interact\n",
    "import ipywidgets as widgets\n",
    "from ipywidgets import IntSlider"
   ]
  },
  {
   "cell_type": "code",
   "execution_count": 2,
   "id": "fcfa6836",
   "metadata": {
    "slideshow": {
     "slide_type": "skip"
    }
   },
   "outputs": [],
   "source": [
    "umap_df = pd.read_csv('../data/Evaluating_Happiness/umap_df.csv', low_memory=False)\n",
    "country = pd.read_csv('../data/Evaluating_Happiness/country_labels.csv', low_memory=False).squeeze()"
   ]
  },
  {
   "cell_type": "code",
   "execution_count": 3,
   "id": "6380d273",
   "metadata": {
    "slideshow": {
     "slide_type": "skip"
    }
   },
   "outputs": [],
   "source": [
    "#country = country.squeeze()"
   ]
  },
  {
   "cell_type": "code",
   "execution_count": 4,
   "id": "01efb160",
   "metadata": {
    "slideshow": {
     "slide_type": "skip"
    }
   },
   "outputs": [
    {
     "name": "stdout",
     "output_type": "stream",
     "text": [
      "<class 'pandas.core.frame.DataFrame'>\n",
      "<class 'pandas.core.series.Series'>\n"
     ]
    }
   ],
   "source": [
    "print(type(umap_df))\n",
    "print(type(country))"
   ]
  },
  {
   "cell_type": "code",
   "execution_count": 5,
   "id": "da99bc31",
   "metadata": {
    "slideshow": {
     "slide_type": "skip"
    }
   },
   "outputs": [
    {
     "name": "stdout",
     "output_type": "stream",
     "text": [
      "(25460, 4)\n",
      "(84868,)\n"
     ]
    }
   ],
   "source": [
    "print(umap_df.shape)\n",
    "print(country.shape)"
   ]
  },
  {
   "cell_type": "code",
   "execution_count": 6,
   "id": "e3c7e8f6",
   "metadata": {
    "slideshow": {
     "slide_type": "skip"
    }
   },
   "outputs": [
    {
     "data": {
      "text/plain": [
       "0    ALG\n",
       "1    ALG\n",
       "2    ALG\n",
       "3    ALG\n",
       "4    ALG\n",
       "Name: country, dtype: object"
      ]
     },
     "execution_count": 6,
     "metadata": {},
     "output_type": "execute_result"
    }
   ],
   "source": [
    "country.head()"
   ]
  },
  {
   "cell_type": "code",
   "execution_count": 20,
   "id": "580f497a",
   "metadata": {
    "slideshow": {
     "slide_type": "slide"
    }
   },
   "outputs": [
    {
     "data": {
      "application/vnd.jupyter.widget-view+json": {
       "model_id": "d517fc027a3d4ee688c3fd8842ba09ee",
       "version_major": 2,
       "version_minor": 0
      },
      "text/plain": [
       "interactive(children=(Dropdown(description='Target Country (1):', options=('ALG', 'ARM', 'AUL', 'AZE', 'BLR', …"
      ]
     },
     "metadata": {},
     "output_type": "display_data"
    }
   ],
   "source": [
    "# widget function (international comparison)\n",
    "\n",
    "@interact(target_country = widgets.Dropdown(\n",
    "    options=country.unique(),\n",
    "    value='ALG',\n",
    "    description='Target Country (1):',\n",
    "    style = {'description_width': 'initial'},\n",
    "    disabled=False,\n",
    "),\n",
    "          comp_country = widgets.Dropdown(\n",
    "    options=country.unique(),\n",
    "    value='ALG',\n",
    "    description='Comparison Country (2):',\n",
    "    style = {'description_width': 'initial'},\n",
    "    disabled=False,\n",
    ")) # turns function into an interactive function\n",
    "\n",
    "# replace country.unique() with widgets.dropdown\n",
    "def umap_widget(target_country, comp_country):\n",
    "    '''Creates an interactive umap projection'''\n",
    "    umap_df['target'] = ((umap_df.country == target_country) + 2*(umap_df.country == comp_country)).astype('string')\n",
    "    \n",
    "    fig = px.scatter(umap_df, \n",
    "                     x=\"umap_x\", \n",
    "                     y=\"umap_y\", \n",
    "                     color=\"target\",\n",
    "                     color_discrete_map = {'0': '#44AA99',\n",
    "                                           '1': '#DDCC77',\n",
    "                                           '2': '#332288',\n",
    "                                           '3': '#EE7733'},\n",
    "                     hover_data=['country'], \n",
    "                     opacity = 0.6,\n",
    "                     labels={\n",
    "                         \"umap_x\": \" \",\n",
    "                         \"umap_y\": \" \",\n",
    "                         \"target\": \"Country Legend\"})\n",
    "    \n",
    "    fig.update_layout(\n",
    "        title = {'text': \"UMAP 2D Projection of WVS Data\",\n",
    "                 'y':0.95,\n",
    "                 'x':0.5,        \n",
    "                 'xanchor': 'center',        \n",
    "                 'yanchor': 'top'})\n",
    "    \n",
    "    fig.show()"
   ]
  },
  {
   "cell_type": "code",
   "execution_count": null,
   "id": "a6808709",
   "metadata": {},
   "outputs": [],
   "source": []
  }
 ],
 "metadata": {
  "kernelspec": {
   "display_name": "Python 3",
   "language": "python",
   "name": "python3"
  },
  "language_info": {
   "codemirror_mode": {
    "name": "ipython",
    "version": 3
   },
   "file_extension": ".py",
   "mimetype": "text/x-python",
   "name": "python",
   "nbconvert_exporter": "python",
   "pygments_lexer": "ipython3",
   "version": "3.9.5"
  }
 },
 "nbformat": 4,
 "nbformat_minor": 5
}
